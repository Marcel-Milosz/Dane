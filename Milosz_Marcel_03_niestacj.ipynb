{
  "nbformat": 4,
  "nbformat_minor": 0,
  "metadata": {
    "colab": {
      "name": "Milosz_Marcel_03_niestacj.ipynb",
      "provenance": [],
      "collapsed_sections": [],
      "authorship_tag": "ABX9TyN7fkYXU3o+NwNQE1rh4ihZ",
      "include_colab_link": true
    },
    "kernelspec": {
      "name": "python3",
      "display_name": "Python 3"
    },
    "language_info": {
      "name": "python"
    }
  },
  "cells": [
    {
      "cell_type": "markdown",
      "metadata": {
        "id": "view-in-github",
        "colab_type": "text"
      },
      "source": [
        "<a href=\"https://colab.research.google.com/github/Marcel-Milosz/Dane/blob/Code-Review/Milosz_Marcel_03_niestacj.ipynb\" target=\"_parent\"><img src=\"https://colab.research.google.com/assets/colab-badge.svg\" alt=\"Open In Colab\"/></a>"
      ]
    },
    {
      "cell_type": "code",
      "metadata": {
        "colab": {
          "base_uri": "https://localhost:8080/",
          "height": 497
        },
        "id": "ves7Uv3HSrkj",
        "outputId": "49f71cff-a4a7-4c2c-eeae-9a216d670dc0"
      },
      "source": [
        "import numpy as np\n",
        "import pandas as pd\n",
        "import seaborn as sns\n",
        "import matplotlib.pyplot as plt\n",
        "\n",
        "from sklearn.datasets import load_diabetes\n",
        "from sklearn.model_selection import KFold, cross_val_score\n",
        "from sklearn.linear_model import LassoCV, Lasso\n",
        "\n",
        "# Load diabetes db\n",
        "\n",
        "diabetes = load_diabetes()\n",
        "\n",
        "data, target = diabetes.data, diabetes.target\n",
        "\n",
        "kf = KFold(n_splits=10)\n",
        "\n",
        "# Split data using kfold\n",
        "for train_index, test_index in kf.split(index):\n",
        "\n",
        "    train_x, test_x = data[train_index], data[test_index]\n",
        "    train_y, test_y = target[train_index], target[test_index]\n",
        "\n",
        "    # print(f\"\\n\\nTrain index: {train_index}\")\n",
        "    # print(f\"Test index: {test_index}\")\n",
        "\n",
        "# Using for loop to get fold score\n",
        "print(\"\\n\\n\")\n",
        "\n",
        "lasso_cv = LassoCV()\n",
        "\n",
        "for k, (train, test) in enumerate(kf.split(index, value)):\n",
        "    lasso_cv.fit(index[train], value[train])\n",
        "    # print(f\"Fold { k+1 } | Alpha: {lasso_cv.alpha_} | score: {lasso_cv.score(index[test], value[test])}\")\n",
        "\n",
        "\n",
        "\n",
        "# Using cros_val_score\n",
        "print(\"\\n\\n\")\n",
        "\n",
        "arr = [3, 5, 10]\n",
        "lasso = Lasso()\n",
        "\n",
        "for n in arr:\n",
        "  \n",
        "    print(f\"Cross val score for cv = {n}\", cross_val_score(lasso, index, value, cv = n))\n",
        "    print(\"Max: \", max(cross_val_score(lasso, index, value, cv=n)), \"\\n\")\n",
        "\n",
        "\n",
        "\n",
        "# Comparing pkt 1, 2 with exc 02\n",
        "r2_score_dict = {\n",
        "    \"Dummy reg\": 0.0,\n",
        "    \"Linear reg\": 0.5356589189193967,\n",
        "    \"Ridge\": 0.4552206856930059,\n",
        "    \"Lasso\": 0.3807860624058743,\n",
        "    \"RidgeCV\": 0.4045745545779539,\n",
        "    \"LassoCV\": 0.40050373260020367,\n",
        "    \"Lasso_cv_kfold_10\": 0.6827010716027995,\n",
        "    \"Lasso_cross_val_10\": 0.4287427630907267,\n",
        "}\n",
        "\n",
        "r2_df = pd.DataFrame.from_dict(r2_score_dict, orient=\"index\", columns=[\"value\"])\n",
        "sorted_r2_df = r2_df.sort_values(by=[\"value\"])\n",
        "\n",
        "plt.figure( figsize=(10, 3) )\n",
        "sns.barplot(x = r2_df.index, y = r2_df.value)\n",
        "plt.title(\"R2 scores\")\n",
        "plt.grid()\n"
      ],
      "execution_count": 24,
      "outputs": [
        {
          "output_type": "stream",
          "text": [
            "\n",
            "\n",
            "\n",
            "\n",
            "\n",
            "\n",
            "Cross val score for cv = 3 [0.34542985 0.34712314 0.36884726]\n",
            "Max:  0.36884725706191346 \n",
            "\n",
            "Cross val score for cv = 5 [0.28349047 0.35157959 0.3533813  0.33481474 0.36453281]\n",
            "Max:  0.36453281428665385 \n",
            "\n",
            "Cross val score for cv = 10 [0.37566102 0.10727689 0.30374655 0.38050755 0.22515853 0.41506179\n",
            " 0.30380439 0.34876534 0.32262628 0.42874276]\n",
            "Max:  0.4287427630907267 \n",
            "\n"
          ],
          "name": "stdout"
        },
        {
          "output_type": "display_data",
          "data": {
            "image/png": "[encoded data removed]",
            "text/plain": [
              "<Figure size 720x216 with 1 Axes>"
            ]
          },
          "metadata": {
            "tags": [],
            "needs_background": "light"
          }
        }
      ]
    }
  ]
}