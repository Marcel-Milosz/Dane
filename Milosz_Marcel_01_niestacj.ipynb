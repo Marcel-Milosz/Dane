{
  "nbformat": 4,
  "nbformat_minor": 0,
  "metadata": {
    "colab": {
      "name": "01_evaluation_KNNipynb",
      "provenance": [],
      "collapsed_sections": [],
      "authorship_tag": "ABX9TyPHqJLnjJ+FRjbnWKw+Ovt0",
      "include_colab_link": true
    },
    "kernelspec": {
      "name": "python3",
      "display_name": "Python 3"
    },
    "language_info": {
      "name": "python"
    }
  },
  "cells": [
    {
      "cell_type": "markdown",
      "metadata": {
        "id": "view-in-github",
        "colab_type": "text"
      },
      "source": [
        "<a href=\"https://colab.research.google.com/github/Marcel-Milosz/Dane/blob/Code-Review/Milosz_Marcel_01_niestacj.ipynb\" target=\"_parent\"><img src=\"https://colab.research.google.com/assets/colab-badge.svg\" alt=\"Open In Colab\"/></a>"
      ]
    },
    {
      "cell_type": "code",
      "metadata": {
        "colab": {
          "base_uri": "https://localhost:8080/",
          "height": 668
        },
        "id": "c-PKfYGahOy_",
        "outputId": "264447cd-573c-40ea-8f72-32c1a8c89eb2"
      },
      "source": [
        "from sklearn.model_selection import train_test_split\n",
        "from sklearn.datasets import load_wine\n",
        "from sklearn.dummy import DummyClassifier\n",
        "from sklearn.neighbors import KNeighborsClassifier\n",
        "from joblib import Memory\n",
        "\n",
        "import matplotlib.pyplot as plt\n",
        "\n",
        "def setCache():   \n",
        "  cachedir = 'cache_mem'\n",
        "  mem = Memory(cachedir)\n",
        "\n",
        "def getData():\n",
        "  # Create feature and target arrays\n",
        "  X, y = load_wine(return_X_y=True) \n",
        "\n",
        "  # X --> wine.data\n",
        "  # y --> wine.target\n",
        "\n",
        "  return X, y\n",
        "\n",
        "def DummyExample():\n",
        "  \n",
        "  '''\n",
        "  Using Dummy Classifier to get the score value\n",
        "  '''\n",
        "\n",
        "  # Split X, y into training and test set\n",
        "  X_train, X_test, y_train, y_test = train_test_split(getData()[0], getData()[1], test_size = 0.33, random_state=42)\n",
        "\n",
        "  # Get the accuracy (score)\n",
        "  dummy_clf = DummyClassifier(strategy=\"most_frequent\")   # Create DummyClassifier\n",
        "  dummy_clf.fit(X_train, y_train)                                     # Fit the data\n",
        "  dummy_clf.predict(X_train)\n",
        "  dummy_score = dummy_clf.score(X_test, y_test)\n",
        "\n",
        "  print(f\"DummyClassifier score: {dummy_score}\")\n",
        "\n",
        "\n",
        "\n",
        "\n",
        "def KnnExample():\n",
        "\n",
        "  '''\n",
        "  Using Knn Classifier to get the score\n",
        "  '''\n",
        "\n",
        "  # Split X, y into training and test set\n",
        "  X_train, X_test, y_train, y_test = train_test_split(getData()[0], getData()[1], test_size = 0.2, random_state=42)\n",
        "\n",
        "  knn = KNeighborsClassifier(10)\n",
        "  print(knn)\n",
        "  knn.fit(X_train, y_train)\n",
        "\n",
        "  # Accuracy (score)\n",
        "  Knn_score = knn.score(X_test, y_test)\n",
        "  print(f\"Knn Classifie score: {Knn_score}\")\n",
        "\n",
        "kn_test = {}\n",
        "kn_train = {}\n",
        "\n",
        "def getN_neighbors():\n",
        "\n",
        "    '''\n",
        "    Getting the n neighbors in kn_test and kn_train dict\n",
        "    '''\n",
        "\n",
        "    X_train, X_test, y_train, y_test = train_test_split(getData()[0], getData()[1], test_size = 0.33, random_state=42)\n",
        "\n",
        "    for i in range(1, 10):\n",
        "        kn_cls = KNeighborsClassifier(n_neighbors = i)\n",
        "\n",
        "        kn_cls.fit(X_test, y_test)\n",
        "        kn_test[i] = kn_cls.score(X_test, y_test)\n",
        "\n",
        "        kn_cls.fit(X_train, y_train)\n",
        "        kn_train[i] = kn_cls.score(X_train, y_train)\n",
        "\n",
        "    for x, y in kn_test.items():\n",
        "        print(f\"Test score: {y} with {x} neighbors\")\n",
        "\n",
        "    for x, y in kn_train.items():\n",
        "        print(f\"Train score: {y} with {x} neighbors\")\n",
        "\n",
        "\n",
        "\n",
        "def createPlot():\n",
        "    x, y = kn_test.keys(), kn_test.values()\n",
        "    x1, y1 = kn_train.keys(), kn_train.values()\n",
        "    plt.scatter(x, y)\n",
        "    plt.scatter(x1, y1)\n",
        "    plt.legend([\"Train values\", \"Test values\"])\n",
        "    plt.show()\n",
        "\n",
        "if __name__ == \"__main__\":\n",
        "  \n",
        "  # Polecenie 1, 2, 3\n",
        "  setCache()\n",
        "  DummyExample()\n",
        "  KnnExample()\n",
        "\n",
        "  print()\n",
        "\n",
        "  # Polecenie 4\n",
        "  getN_neighbors()\n",
        "  createPlot()\n"
      ],
      "execution_count": 7,
      "outputs": [
        {
          "output_type": "stream",
          "text": [
            "DummyClassifier score: 0.4067796610169492\n",
            "KNeighborsClassifier(algorithm='auto', leaf_size=30, metric='minkowski',\n",
            "                     metric_params=None, n_jobs=None, n_neighbors=10, p=2,\n",
            "                     weights='uniform')\n",
            "Knn Classifie score: 0.7222222222222222\n",
            "\n",
            "Test score: 1.0 with 1 neighbors\n",
            "Test score: 0.864406779661017 with 2 neighbors\n",
            "Test score: 0.8983050847457628 with 3 neighbors\n",
            "Test score: 0.847457627118644 with 4 neighbors\n",
            "Test score: 0.864406779661017 with 5 neighbors\n",
            "Test score: 0.847457627118644 with 6 neighbors\n",
            "Test score: 0.8135593220338984 with 7 neighbors\n",
            "Test score: 0.8305084745762712 with 8 neighbors\n",
            "Test score: 0.8305084745762712 with 9 neighbors\n",
            "Train score: 1.0 with 1 neighbors\n",
            "Train score: 0.865546218487395 with 2 neighbors\n",
            "Train score: 0.8235294117647058 with 3 neighbors\n",
            "Train score: 0.7983193277310925 with 4 neighbors\n",
            "Train score: 0.8067226890756303 with 5 neighbors\n",
            "Train score: 0.7815126050420168 with 6 neighbors\n",
            "Train score: 0.8235294117647058 with 7 neighbors\n",
            "Train score: 0.773109243697479 with 8 neighbors\n",
            "Train score: 0.7815126050420168 with 9 neighbors\n"
          ],
          "name": "stdout"
        },
        {
          "output_type": "display_data",
          "data": {
            "image/png": "[encoded data removed]",
            "text/plain": [
              "<Figure size 432x288 with 1 Axes>"
            ]
          },
          "metadata": {
            "tags": [],
            "needs_background": "light"
          }
        }
      ]
    }
  ]
}