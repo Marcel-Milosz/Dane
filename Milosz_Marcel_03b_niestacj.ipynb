{
  "nbformat": 4,
  "nbformat_minor": 0,
  "metadata": {
    "colab": {
      "name": "Milosz_Marcel_03b_niestacj.ipynb",
      "provenance": [],
      "collapsed_sections": [],
      "authorship_tag": "ABX9TyPjbO0b5pOIqIHzNnVIBZsr",
      "include_colab_link": true
    },
    "kernelspec": {
      "name": "python3",
      "display_name": "Python 3"
    },
    "language_info": {
      "name": "python"
    }
  },
  "cells": [
    {
      "cell_type": "markdown",
      "metadata": {
        "id": "view-in-github",
        "colab_type": "text"
      },
      "source": [
        "<a href=\"https://colab.research.google.com/github/Marcel-Milosz/Dane/blob/Code-Review/Milosz_Marcel_03b_niestacj.ipynb\" target=\"_parent\"><img src=\"https://colab.research.google.com/assets/colab-badge.svg\" alt=\"Open In Colab\"/></a>"
      ]
    },
    {
      "cell_type": "code",
      "metadata": {
        "id": "KUEgs86Ne14U"
      },
      "source": [
        "import numpy as np\n",
        "import pandas as pd\n",
        "\n",
        "from sklearn.datasets import load_wine\n",
        "from sklearn.model_selection import train_test_split\n",
        "from sklearn.neighbors import KNeighborsClassifier\n",
        "from sklearn.preprocessing import StandardScaler\n",
        "from sklearn.model_selection import StratifiedKFold\n",
        "\n",
        "\n",
        "# Get wine db\n",
        "data, target = load_wine(return_X_y=True) \n",
        "kn_clf = KNeighborsClassifier(n_neighbors=3)\n",
        "skf = StratifiedKFold(n_splits=8)\n",
        "\n",
        "# Testing variants\n",
        "variants = [[42, None, 'No'], [42, target, 'Yes'], [224, target, 'Yes'], [224, None, 'No']]             # List to test variants \n",
        "\n",
        "\n",
        "# Test variants for every element in the list\n",
        "for i in variants:\n",
        "    x_train, x_test, y_train, y_test = train_test_split(data, target, random_state = i[0], stratify=i[1])\n",
        "    \n",
        "    scaler = StandardScaler().fit(x_train)\n",
        "    x_train_std = scaler.transform(x_train)\n",
        "    x_test_std = scaler.transform(x_test)\n",
        "    kn_clf.fit(x_train_std, y_train)\n",
        "\n",
        "    print(f\"Random state: {i[0]} | stratify: {i[2]} >> {kn_clf.score(x_test_std, y_test)}\")\n",
        "\n",
        "# Using StratifiedKFold\n",
        "mean = []\n",
        "\n",
        "for fold, (train, test) in enumerate(skf.split(data, target)):\n",
        "    kn_clf.fit(data[train], target[train])\n",
        "    score = round(kn_clf.score(data[test], target[test]), 5)\n",
        "    mean.append(score)\n",
        "\n",
        "train_bin     = np.bincount(target[train])\n",
        "test_bin      = np.bincount(target[test])\n",
        "train_shape   = np.shape(target[train])\n",
        "test_shape    = np.shape(target[test])\n",
        "\n",
        "\n",
        "print(f\"\\nScore: {score}\")\n",
        "print(f\"Fold: {fold}\")\n",
        "print(f\"Train_bin: {np.bincount(target[train])}\")\n",
        "print(f\"Test_bin: {np.bincount(target[test])}\")\n",
        "print(f\"Train_shape: {np.shape(target[train])}\")\n",
        "print(f\"Test_shape: {np.shape(target[test])}\")"
      ],
      "execution_count": null,
      "outputs": []
    }
  ]
}