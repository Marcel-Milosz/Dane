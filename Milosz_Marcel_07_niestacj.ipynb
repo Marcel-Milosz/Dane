{
  "nbformat": 4,
  "nbformat_minor": 0,
  "metadata": {
    "colab": {
      "name": "Milosz_Marcel_07_niestacj.ipynb",
      "provenance": [],
      "collapsed_sections": [],
      "mount_file_id": "1IT-MPQ3FLsZ8l58CPn43htPjUfvgUytf",
      "authorship_tag": "ABX9TyM6PIWDpr/N1LlIAJcZpPSo",
      "include_colab_link": true
    },
    "kernelspec": {
      "name": "python3",
      "display_name": "Python 3"
    },
    "language_info": {
      "name": "python"
    }
  },
  "cells": [
    {
      "cell_type": "markdown",
      "metadata": {
        "id": "view-in-github",
        "colab_type": "text"
      },
      "source": [
        "<a href=\"https://colab.research.google.com/github/Marcel-Milosz/Dane/blob/Code-Review/Milosz_Marcel_07_niestacj.ipynb\" target=\"_parent\"><img src=\"https://colab.research.google.com/assets/colab-badge.svg\" alt=\"Open In Colab\"/></a>"
      ]
    },
    {
      "cell_type": "code",
      "metadata": {
        "colab": {
          "base_uri": "https://localhost:8080/"
        },
        "id": "JftG4rNz_Vya",
        "outputId": "68cad211-3b71-4813-a5fc-5f7fce2d6051"
      },
      "source": [
        "import numpy as np\n",
        "import pandas as pd\n",
        "from sklearn.model_selection import train_test_split\n",
        "from sklearn.preprocessing import StandardScaler\n",
        "from sklearn.decomposition import PCA\n",
        "\n",
        "from sklearn.pipeline import Pipeline\n",
        "from sklearn.model_selection import StratifiedKFold\n",
        "from sklearn.model_selection import GridSearchCV\n",
        "from sklearn.linear_model import LogisticRegression\n",
        "from sklearn.linear_model import SGDClassifier\n",
        "from sklearn.svm import SVC\n",
        "\n",
        "from sklearn.metrics import accuracy_score\n",
        "from sklearn.metrics import roc_auc_score\n",
        "from sklearn.metrics import make_scorer\n",
        "from sklearn.metrics import classification_report\n",
        "\n",
        "seed = np.random.seed(15)\n",
        "train_X = pd.read_csv(\"/content/drive/MyDrive/Projekt_ML_26.06.2021/train_data.csv\", header=None)\n",
        "train_label_df = pd.read_csv(\"/content/drive/MyDrive/Projekt_ML_26.06.2021/train_labels.csv\", header=None)\n",
        "train_label = train_label_df[0].values\n",
        "\n",
        "X_train, X_test, y_train, y_test = train_test_split(train_X, train_label, test_size=0.97, shuffle=True, random_state=seed)\n",
        "\n",
        "# Standard Scaaler\n",
        "scaler = StandardScaler().fit(X_train)\n",
        "X_train_std = scaler.transform(X_train)\n",
        "X_test_std = scaler.transform(X_test)\n",
        "\n",
        "pca = PCA(n_components=2, whiten=True, random_state=seed)\n",
        "X_train_std_pca = pca.fit_transform(X_train_std)\n",
        "X_test_std_pca = pca.fit_transform(X_test_std)\n",
        "\n",
        "# LogisticRegression\n",
        "log_reg_model = LogisticRegression()\n",
        "sgd_model = SGDClassifier()\n",
        "svc_model = SVC()\n",
        "\n",
        "pipe = Pipeline([(\"classifier\", SVC())])\n",
        "\n",
        "SearchS = [\n",
        "    {\"classifier\": [log_reg_model], \"classifier__solver\": ['lbfgs', 'sag', 'saga'], \"classifier__penalty\": ['l1', 'l2', 'elasticnet', None], \"classifier__class_weight\": [\"balanced\", None], \"classifier__C\": np.logspace(0, 4, 10), \"classifier__multi_class\": ['ovr']},\n",
        "    {\"classifier\": [sgd_model],\"classifier__penalty\": ['l1', 'l2', 'elasticnet'],\"classifier__class_weight\": [None, \"balanced\"],\"classifier__alpha\": [1e-4, 1e-3, 1e-2, 1e-1, 1e0, 1e1], \"classifier__loss\": ['hinge', 'log', 'perceptron']},\n",
        "    {\"classifier\": [svc_model],\"classifier__kernel\":[\"linear\", \"rbf\", \"poly\"],\"classifier__class_weight\": [None, \"balanced\"],\"classifier__gamma\": [1e-4, 1e-3, 1e-2, 1e-1, 1e0, 1e1], \"classifier__C\": np.logspace(0, 4, 10)},\n",
        "]\n",
        "\n",
        "# StratifiedKFold\n",
        "skf = StratifiedKFold(n_splits=3, random_state=seed, shuffle=True)\n",
        "gridsearch = GridSearchCV(pipe, SearchS, cv=skf, verbose=0, n_jobs=-1)\n",
        "best_model = gridsearch.fit(X_train_std_pca, y_train)\n",
        "\n",
        "print(pca.explained_variance_ratio_)\n",
        "print(pca.singular_values_)\n",
        "print(best_model.best_estimator_.get_params()[\"classifier\"])\n",
        "\n",
        "gridsearch.best_params_\n",
        "gridsearch.best_score_\n",
        "\n",
        "model = LogisticRegression(C=1, class_weight=None, multi_class='ovr', penalty='l1', solver='saga')\n",
        "model.fit(X_train_std_pca, y_train)\n",
        "preds = model.predict(X_test_std_pca)\n",
        "\n",
        "print(classification_report(y_test, preds))"
      ],
      "execution_count": null,
      "outputs": [
        {
          "output_type": "stream",
          "text": [
            "[0.00066959 0.00066762]\n",
            "[158.19854389 157.96561516]\n",
            "SVC(C=1291.5496650148827, break_ties=False, cache_size=200, class_weight=None,\n",
            "    coef0=0.0, decision_function_shape='ovr', degree=3, gamma=0.1, kernel='rbf',\n",
            "    max_iter=-1, probability=False, random_state=None, shrinking=True,\n",
            "    tol=0.001, verbose=False)\n",
            "              precision    recall  f1-score   support\n",
            "\n",
            "          -1       0.00      0.00      0.00       362\n",
            "           1       0.90      1.00      0.95      3276\n",
            "\n",
            "    accuracy                           0.90      3638\n",
            "   macro avg       0.45      0.50      0.47      3638\n",
            "weighted avg       0.81      0.90      0.85      3638\n",
            "\n"
          ],
          "name": "stdout"
        },
        {
          "output_type": "stream",
          "text": [
            "/usr/local/lib/python3.7/dist-packages/sklearn/metrics/_classification.py:1272: UndefinedMetricWarning: Precision and F-score are ill-defined and being set to 0.0 in labels with no predicted samples. Use `zero_division` parameter to control this behavior.\n",
            "  _warn_prf(average, modifier, msg_start, len(result))\n"
          ],
          "name": "stderr"
        }
      ]
    }
  ]
}